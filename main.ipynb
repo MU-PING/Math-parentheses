{
 "cells": [
  {
   "cell_type": "markdown",
   "metadata": {},
   "source": [
    "### Dynamic programming 時間複雜度O(n^3)"
   ]
  },
  {
   "cell_type": "code",
   "execution_count": 1,
   "metadata": {},
   "outputs": [],
   "source": [
    "import re\n",
    "from pprint import pprint"
   ]
  },
  {
   "cell_type": "code",
   "execution_count": 2,
   "metadata": {},
   "outputs": [
    {
     "name": "stdout",
     "output_type": "stream",
     "text": [
      "請輸入運算式 (ex:3+6*8，限於'+'、'-'、'*')：5-8+7*4-8+9\n",
      "運算元: [5, 8, 7, 4, 8, 9]\n",
      "運算子: ['-', '+', '*', '-', '+']\n"
     ]
    }
   ],
   "source": [
    "#此段程式負責處理字串分離，將運算元跟運算子分離並判斷正負號\n",
    "\n",
    "\n",
    "def input_math_expression():\n",
    "    math_expression = input(\"請輸入運算式 (ex:3+6*8，限於'+'、'-'、'*')：\")\n",
    "    expression_operand = list(map(int,re.findall(r'(\\d{1,100})',math_expression))) #找出所有數字並轉換成int矩陣(正負號未處理)\n",
    "    expression_operator = []\n",
    "\n",
    "    record = ['']                         #處理字串的紀錄，第一個預設''\n",
    "    record.extend(list(math_expression))\n",
    "    record_index = 1\n",
    "    sign_index = 0\n",
    "    if len(math_expression)>30:\n",
    "        print(\"不合法輸入\")\n",
    "    else:\n",
    "        for i in math_expression:\n",
    "            if(i=='-' or i=='+'or i=='*'):           #判斷'-'是運算子還是負運算元，如果是'-'判斷前一個字元是否是數字\n",
    "                if (not record[record_index-1].isdigit() and i=='-'):\n",
    "                    expression_operand[sign_index]*=-1\n",
    "                else:\n",
    "                    expression_operator.append(i)\n",
    "                    sign_index +=1\n",
    "            record_index+=1\n",
    "    print(\"運算元:\", expression_operand)\n",
    "    print(\"運算子:\", expression_operator)\n",
    "    \n",
    "    return (expression_operand,expression_operator)\n",
    "\n",
    "expression = input_math_expression()"
   ]
  },
  {
   "cell_type": "code",
   "execution_count": 3,
   "metadata": {
    "scrolled": false
   },
   "outputs": [
    {
     "name": "stdout",
     "output_type": "stream",
     "text": [
      "[[5.0, -3.0, 4.0, 25.0, 65.0, 200.0],\n",
      " [-inf, 8.0, 15.0, 60.0, 52.0, 75.0],\n",
      " [-inf, -inf, 7.0, 28.0, 20.0, 35.0],\n",
      " [-inf, -inf, -inf, 4.0, -4.0, 5.0],\n",
      " [-inf, -inf, -inf, -inf, 8.0, 17.0],\n",
      " [-inf, -inf, -inf, -inf, -inf, 9.0]]\n",
      "\n",
      "[[5.0, -3.0, -10.0, -55.0, -63.0, -94.0],\n",
      " [inf, 8.0, 15.0, 36.0, -60.0, -195.0],\n",
      " [inf, inf, 7.0, 28.0, -28.0, -91.0],\n",
      " [inf, inf, inf, 4.0, -4.0, -13.0],\n",
      " [inf, inf, inf, inf, 8.0, 17.0],\n",
      " [inf, inf, inf, inf, inf, 9.0]]\n"
     ]
    }
   ],
   "source": [
    "\n",
    "expression_operand = expression[0]\n",
    "expression_operator = expression[1]\n",
    "s_max = [[[None,0,None]]*len(expression_operand) for i in range(len(expression_operand))]\n",
    "s_min = [[[None,0,None]]*len(expression_operand) for i in range(len(expression_operand))]\n",
    "\n",
    "def parenthesize_expression():\n",
    "    \n",
    "    #生成紀錄最大值矩陣跟最小值矩陣\n",
    "    MEMOIZED_MATRIX_Max = [[float(\"-inf\")]*len(expression_operand) for i in range(len(expression_operand))]\n",
    "    for i in range(0,len(expression_operand)):\n",
    "        MEMOIZED_MATRIX_Max[i][i]=float(expression_operand[i])\n",
    "    MEMOIZED_MATRIX_Min = [[float(\"inf\")]*len(expression_operand) for i in range(len(expression_operand))]\n",
    "    for i in range(0,len(expression_operand)):\n",
    "        MEMOIZED_MATRIX_Min[i][i]=float(expression_operand[i])\n",
    "\n",
    "    for l in range(1,len(expression_operand)): #1~3\n",
    "        for i in range(0,len(expression_operand)-l):#0~4-l\n",
    "            j=i+l\n",
    "            for k in range(i,j):\n",
    "                temp=[]\n",
    "                temp.append(Calculation(MEMOIZED_MATRIX_Max[i][k],MEMOIZED_MATRIX_Min[k+1][j],k))\n",
    "                temp.append(Calculation(MEMOIZED_MATRIX_Min[i][k],MEMOIZED_MATRIX_Max[k+1][j],k))\n",
    "                temp.append(Calculation(MEMOIZED_MATRIX_Max[i][k],MEMOIZED_MATRIX_Max[k+1][j],k))\n",
    "                temp.append(Calculation(MEMOIZED_MATRIX_Min[i][k],MEMOIZED_MATRIX_Min[k+1][j],k))\n",
    "                if max(temp)>MEMOIZED_MATRIX_Max[i][j]:\n",
    "                    MEMOIZED_MATRIX_Max[i][j]=max(temp)\n",
    "                    s_max[i][j] = record(temp.index(max(temp)),k)\n",
    "                if min(temp)<MEMOIZED_MATRIX_Min[i][j]:\n",
    "                    MEMOIZED_MATRIX_Min[i][j]=min(temp)\n",
    "                    s_min[i][j] = record(temp.index(min(temp)),k)\n",
    "    pprint(MEMOIZED_MATRIX_Max)\n",
    "    print()\n",
    "    pprint(MEMOIZED_MATRIX_Min)\n",
    "    \n",
    "def record(index,k):\n",
    "    if (index==0):\n",
    "        return [\"s_max\",k,\"s_min\"]\n",
    "    elif (index==1):\n",
    "        return [\"s_min\",k,\"s_max\"]\n",
    "    elif (index==2):\n",
    "        return [\"s_max\",k,\"s_max\"]\n",
    "    elif (index==3):\n",
    "        return [\"s_min\",k,\"s_min\"]\n",
    "    \n",
    "def Calculation(index_1, index_2, index):\n",
    "    if(expression_operator[index]=='+'):\n",
    "        return index_1+index_2\n",
    "    elif(expression_operator[index]=='*'):\n",
    "        return index_1*index_2\n",
    "    elif(expression_operator[index]=='-'):\n",
    "        return index_1-index_2\n",
    "\n",
    "parenthesize_expression()"
   ]
  },
  {
   "cell_type": "code",
   "execution_count": 4,
   "metadata": {},
   "outputs": [],
   "source": [
    "def parentheses(left, right, max_or_min): #搜尋i~j\n",
    "\n",
    "    if (max_or_min==\"s_max\"):#判斷用用哪個矩陣追蹤\n",
    "        temp=s_max\n",
    "    else:\n",
    "        temp=s_min\n",
    "    \n",
    "    if (left!=right):\n",
    "        print(\"(\",end=\"\")\n",
    "        parentheses(left, temp[left][right][1], temp[left][right][0]) #往左\n",
    "        print(expression_operator[temp[left][right][1]],end=\"\")\n",
    "        parentheses(temp[left][right][1]+1, right, temp[left][right][2]) #往右\n",
    "        print(\")\",end=\"\")\n",
    "    else:\n",
    "        print(expression_operand[right],end=\"\")"
   ]
  },
  {
   "cell_type": "code",
   "execution_count": 5,
   "metadata": {},
   "outputs": [
    {
     "name": "stdout",
     "output_type": "stream",
     "text": [
      "最大值：(5-((8+7)*(4-(8+9))))\n",
      "最小值：((5-8)+(7*(4-(8+9))))"
     ]
    }
   ],
   "source": [
    "print(\"最大值：\", end=\"\")\n",
    "parentheses(0,len(expression_operand)-1,\"s_max\") #最大\n",
    "\n",
    "print(\"\\n最小值：\", end=\"\")\n",
    "parentheses(0,len(expression_operand)-1,\"s_min\") #最小"
   ]
  }
 ],
 "metadata": {
  "kernelspec": {
   "display_name": "Python 3",
   "language": "python",
   "name": "python3"
  },
  "language_info": {
   "codemirror_mode": {
    "name": "ipython",
    "version": 3
   },
   "file_extension": ".py",
   "mimetype": "text/x-python",
   "name": "python",
   "nbconvert_exporter": "python",
   "pygments_lexer": "ipython3",
   "version": "3.8.10"
  }
 },
 "nbformat": 4,
 "nbformat_minor": 2
}
